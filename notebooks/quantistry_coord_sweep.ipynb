{
 "cells": [
  {
   "cell_type": "code",
   "execution_count": 117,
   "id": "2e4bd4c5",
   "metadata": {},
   "outputs": [],
   "source": [
    "import pandas as pd\n",
    "import numpy as np\n",
    "from zipfile import *\n",
    "import warnings, os, gzip\n",
    "warnings.filterwarnings('ignore')\n"
   ]
  },
  {
   "cell_type": "code",
   "execution_count": 118,
   "id": "1749e780",
   "metadata": {},
   "outputs": [],
   "source": [
    "pth = os.getcwd() + r'\\quantistry'"
   ]
  },
  {
   "cell_type": "code",
   "execution_count": 119,
   "id": "7530020d",
   "metadata": {},
   "outputs": [],
   "source": [
    "\n",
    "def get_coord(zip_file):\n",
    "    all_res = []\n",
    "\n",
    "    with zipfile.ZipFile(zip_file, 'r') as f:\n",
    "        coord_list = [x for x in f.namelist() if 'csv' not in x]\n",
    "        for i in coord_list:\n",
    "            tmp = f.extract(i)\n",
    "            df = pd.read_csv(tmp)\n",
    "\n",
    "            new_df = []\n",
    "            for j in range(len(df)):\n",
    "                df.iloc[j] = df.iloc[j].str.replace('  ', ' ', regex = True)\n",
    "                new_df.append(df.iloc[j].str.split(' ', expand = True))\n",
    "\n",
    "            new_df = pd.concat(new_df)\n",
    "            \n",
    "            new_df0 = pd.DataFrame(['{}'.format(i).replace('.xyz', '')] * len(new_df), columns = ['step'])\n",
    "            \n",
    "            new_df1 = new_df.iloc[:, 0].reset_index(drop = True)\n",
    "            \n",
    "            new_df2 = new_df.iloc[:, 1:]\n",
    "            out = pd.DataFrame(new_df2.iloc[:,::-1].apply(lambda x: x.dropna().tolist(), axis=1).tolist(), columns=new_df2.columns[::-1]).iloc[:,::-1]\n",
    "            out.replace('', float('NaN'), inplace = True)\n",
    "            out.dropna(axis = 1, how = 'all', inplace = True)\n",
    "\n",
    "            final = pd.concat([new_df0, new_df1, out], axis = 1)\n",
    "            final.columns = ['step', 'atom', 'x', 'y', 'z']\n",
    "            all_res.append(final)\n",
    "\n",
    "        f.close()\n",
    "        \n",
    "    return pd.concat(all_res)"
   ]
  },
  {
   "cell_type": "code",
   "execution_count": 126,
   "id": "94032e31",
   "metadata": {},
   "outputs": [],
   "source": [
    "Co2_CO2 = get_coord(pth + r'\\Co2_CO2.zip')\n",
    "Co2_H2O = get_coord(pth + r'\\Co2_H2O.zip')\n",
    "Co2_N2 = get_coord(pth + r'\\Co2_N2.zip')\n",
    "\n",
    "Cu1_CO2 = get_coord(pth + r'\\Cu1_CO2.zip')\n",
    "Cu1_H2O = get_coord(pth + r'\\Cu1_H2O.zip')\n",
    "Cu1_N2 = get_coord(pth + r'\\Cu1_N2.zip')"
   ]
  },
  {
   "cell_type": "code",
   "execution_count": 127,
   "id": "65068098",
   "metadata": {},
   "outputs": [],
   "source": [
    "Co2_CO2.to_excel('Co2_CO2.xlsx')\n",
    "Co2_H2O.to_excel('Co2_H2O.xlsx')\n",
    "Co2_N2.to_excel('Co2_N2.xlsx')\n",
    "\n",
    "Cu1_CO2.to_excel('Cu1_CO2.xlsx')\n",
    "Cu1_H2O.to_excel('Cu1_H2O.xlsx')\n",
    "Cu1_N2.to_excel('Cu1_N2.xlsx')\n"
   ]
  },
  {
   "cell_type": "code",
   "execution_count": null,
   "id": "e2fb8904",
   "metadata": {},
   "outputs": [],
   "source": []
  }
 ],
 "metadata": {
  "kernelspec": {
   "display_name": "Python 3 (ipykernel)",
   "language": "python",
   "name": "python3"
  },
  "language_info": {
   "codemirror_mode": {
    "name": "ipython",
    "version": 3
   },
   "file_extension": ".py",
   "mimetype": "text/x-python",
   "name": "python",
   "nbconvert_exporter": "python",
   "pygments_lexer": "ipython3",
   "version": "3.9.13"
  }
 },
 "nbformat": 4,
 "nbformat_minor": 5
}
