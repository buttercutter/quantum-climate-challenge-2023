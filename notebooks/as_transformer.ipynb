{
 "cells": [
  {
   "cell_type": "code",
   "execution_count": 3,
   "metadata": {},
   "outputs": [
    {
     "name": "stderr",
     "output_type": "stream",
     "text": [
      "/var/folders/yk/_rb14s1j5tg2qcj87ml0w1n80000gn/T/ipykernel_3856/1705410983.py:6: NatureDeprecationWarning: The qiskit_nature.algorithms.excited_state_solvers package is deprecated as of version 0.5.0 and will be removed no sooner than 3 months after the release. Instead use the qiskit_nature.second_q.algorithms.excited_state_solvers package.\n",
      "  from qiskit_nature.algorithms import GroundStateEigensolver\n",
      "/var/folders/yk/_rb14s1j5tg2qcj87ml0w1n80000gn/T/ipykernel_3856/1705410983.py:6: NatureDeprecationWarning: The qiskit_nature.algorithms.pes_sampler package is deprecated as of version 0.5.0 and will be removed no sooner than 3 months after the release . Please refer to 'https://github.com/Qiskit/qiskit-nature/issues/750' for additional information regarding 'extrapolators'.\n",
      "  from qiskit_nature.algorithms import GroundStateEigensolver\n"
     ]
    },
    {
     "ename": "AttributeError",
     "evalue": "'ElectronicStructureProblem' object has no attribute 'make_driver_solver'",
     "output_type": "error",
     "traceback": [
      "\u001b[0;31m---------------------------------------------------------------------------\u001b[0m",
      "\u001b[0;31mAttributeError\u001b[0m                            Traceback (most recent call last)",
      "Cell \u001b[0;32mIn[3], line 17\u001b[0m\n\u001b[1;32m     14\u001b[0m problem \u001b[39m=\u001b[39m ElectronicStructureProblem(driver)\n\u001b[1;32m     16\u001b[0m \u001b[39m# solve the Hartree-Fock problem to obtain the molecular orbitals\u001b[39;00m\n\u001b[0;32m---> 17\u001b[0m hf_solver \u001b[39m=\u001b[39m problem\u001b[39m.\u001b[39;49mmake_driver_solver()\n\u001b[1;32m     18\u001b[0m hf_result \u001b[39m=\u001b[39m hf_solver\u001b[39m.\u001b[39mrun()\n\u001b[1;32m     20\u001b[0m \u001b[39m# determine the active space\u001b[39;00m\n",
      "\u001b[0;31mAttributeError\u001b[0m: 'ElectronicStructureProblem' object has no attribute 'make_driver_solver'"
     ]
    }
   ],
   "source": [
    "#from qiskit_nature.drivers import PySCFDriver\n",
    "from qiskit_nature.second_q.drivers import PySCFDriver\n",
    "#from qiskit_nature.transformers import ActiveSpaceTransformer\n",
    "from qiskit_nature.second_q.transformers import ActiveSpaceTransformer, FreezeCoreTransformer\n",
    "from qiskit_nature.problems.second_quantization.electronic import ElectronicStructureProblem\n",
    "from qiskit_nature.algorithms import GroundStateEigensolver\n",
    "from qiskit_nature.mappers.second_quantization import JordanWignerMapper\n",
    "from qiskit_nature.converters.second_quantization import QubitConverter\n",
    "\n",
    "# define the PySCF driver to load the molecule\n",
    "driver = PySCFDriver(atom=\"Fe2.CO2\", basis=\"sto3g\", charge=2, spin=1, max_memory=1024)\n",
    "\n",
    "# define the electronic structure problem\n",
    "problem = ElectronicStructureProblem(driver)\n",
    "\n",
    "# solve the Hartree-Fock problem to obtain the molecular orbitals\n",
    "hf_solver = problem.make_driver_solver()\n",
    "hf_result = hf_solver.run()\n",
    "\n",
    "# determine the active space\n",
    "active_orbitals = [i for i, occ in enumerate(hf_result.mo_occ) if occ > 0.0 and i < 14]\n",
    "\n",
    "print(\"Active orbitals: {}\".format(active_orbitals))"
   ]
  },
  {
   "cell_type": "code",
   "execution_count": null,
   "metadata": {},
   "outputs": [],
   "source": [
    "# define the active space transformer\n",
    "as_transformer = ActiveSpaceTransformer(num_electrons=6, num_molecular_orbitals=14, active_orbitals=active_orbitals)\n",
    "\n",
    "# apply the active space transformation to the problem\n",
    "problem = as_transformer.transform(problem)\n",
    "\n",
    "# define the Jordan-Wigner mapper and qubit converter\n",
    "mapper = JordanWignerMapper()\n",
    "converter = QubitConverter(mapper=mapper, two_qubit_reduction=True)\n",
    "\n",
    "# define the ground state eigensolver\n",
    "solver = GroundStateEigensolver(converter, GroundStateEigensolver.DEFAULT_NUM_EIGENVALUES)\n",
    "\n",
    "# solve for the ground state energy\n",
    "result = solver.solve(problem)\n",
    "\n",
    "# print the ground state energy\n",
    "print(result)\n",
    "\n"
   ]
  }
 ],
 "metadata": {
  "kernelspec": {
   "display_name": "qc",
   "language": "python",
   "name": "python3"
  },
  "language_info": {
   "codemirror_mode": {
    "name": "ipython",
    "version": 3
   },
   "file_extension": ".py",
   "mimetype": "text/x-python",
   "name": "python",
   "nbconvert_exporter": "python",
   "pygments_lexer": "ipython3",
   "version": "3.11.1"
  },
  "orig_nbformat": 4
 },
 "nbformat": 4,
 "nbformat_minor": 2
}
