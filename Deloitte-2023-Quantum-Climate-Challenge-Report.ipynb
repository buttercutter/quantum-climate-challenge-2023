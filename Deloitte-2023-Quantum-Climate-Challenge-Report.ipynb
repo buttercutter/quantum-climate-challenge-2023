{
 "cells": [
  {
   "cell_type": "markdown",
   "metadata": {},
   "source": [
    "# Quantux Climate Challenge Report\n",
    "\n",
    "## Team\n",
    "Tuomas Sorakivi, "
   ]
  },
  {
   "cell_type": "markdown",
   "metadata": {},
   "source": [
    "## Task 1A \n",
    "### Problem\n",
    "Calculate a combination of interaction molecules and calculate with a quantum algorithm the minimum of Potential Energy Surface.\n",
    "### Solution\n",
    "#### Quantum algorithm\n",
    "Our team created a quantum algorithm UCCSD for the molecular problem Co + CO2, Fe + CO2 and Cu + CO2. Our most time consuming problem was to analyse how to reduce the problem size with a quantum computer approach. \n",
    "#### BOPES\n",
    "#### Running the algorithm\n",
    "The runtime of the algorithm in real quantum computer is high mostly because of the wait que in the real machine. \n",
    "We run the algorithm on a simulation environment with the following results. \n",
    "#### Quantistry\n",
    "With the Quantistry we created a calculations for each combination of the interactions. \n",
    "#### References\n",
    "During the task we created issues for questions that came up during the task. \n",
    "\n",
    "Qiskit https://github.com/Qiskit/qiskit-nature/issues/1087#issuecomment-1456015083\n",
    "\n",
    "TensorCircuit https://github.com/tencent-quantum-lab/tensorcircuit/issues/120#issuecomment-1447920148\n",
    "## Task 1B\n",
    "### Problem\n",
    "Compare your solution to at least one classical solution, describing advantages and disadvantages of the approaches.\n",
    "### Solution\n",
    "#### References\n",
    "## Task 2A \n",
    "### Problem\n",
    "Conceptualize a quantum or hybrid solution to scale the calculation from one\n",
    "binding site to at least one 2D unit cell of\n",
    "the given MOF-family AND from one gas\n",
    "molecule to a larger amount of substance\n",
    "of the gas molecule.\n",
    "### Solution\n",
    "#### References\n",
    "## Task 2B \n",
    "### Problem\n",
    "### Solution\n",
    "#### References\n",
    "## Task 3\n",
    "### Problem\n",
    "### Solution\n",
    "#### References"
   ]
  },
  {
   "cell_type": "code",
   "execution_count": null,
   "metadata": {},
   "outputs": [],
   "source": []
  },
  {
   "cell_type": "code",
   "execution_count": null,
   "metadata": {},
   "outputs": [],
   "source": []
  }
 ],
 "metadata": {
  "kernelspec": {
   "display_name": "Python 3 (ipykernel)",
   "language": "python",
   "name": "python3"
  },
  "language_info": {
   "codemirror_mode": {
    "name": "ipython",
    "version": 3
   },
   "file_extension": ".py",
   "mimetype": "text/x-python",
   "name": "python",
   "nbconvert_exporter": "python",
   "pygments_lexer": "ipython3",
   "version": "3.9.13"
  }
 },
 "nbformat": 4,
 "nbformat_minor": 4
}
