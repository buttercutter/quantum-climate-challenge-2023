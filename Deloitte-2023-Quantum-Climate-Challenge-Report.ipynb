{
 "cells": [
  {
   "cell_type": "markdown",
   "metadata": {},
   "source": [
    "# Quantux Climate Challenge Report\n",
    "\n",
    "## Team\n",
    "Tuomas Sorakivi, "
   ]
  },
  {
   "cell_type": "markdown",
   "metadata": {},
   "source": [
    "## Task 1A \n",
    "### Problem\n",
    "Create a quantum algorithm, a quantum hybrid or quantum inspired solution, that calculates the minimum of the  potential energy surface of combinations gas molecules (CO 2 , H 2 O, N 2 ) and ions (Mg 2+ , Ni 2+ , Fe 2+ , Co 2+ , Zn 2+ , Mn 2+ , Cu 2+ ).\n",
    "### Solution\n",
    "#### Classical algorithm\n",
    "Our team calculated energy levels with a classical computation in Quantistry solution for the combination molecules: \n",
    "- Co 2+ CO2, Co 2+ H2O, Co 2+ N2\n",
    "- Cu 2+ CO2, Cu 2+ H2O, Cu 2+ N2\n",
    "- Fe 2+ CO2, Fe 2+ H2O, Fe 2+ N2\n",
    "- Mn 2+ CO2, Mn 2+ H2O, Mn 2+ N2\n",
    "- Ni 2+ CO2, Ni 2+ H2O, Ni 2+ N2\n",
    "\n",
    "#### Quantum algorithm\n",
    "Our team calculated energy levels with a quantum computation with Qiskit and IBM Quantum for the energy combinations:\n",
    "- Co 2+ CO2\n",
    "- Fe 2+ CO2\n",
    "\n",
    "We created a quantum algorithm UCCSD for the molecular problem.\n",
    "\n",
    "Our most time consuming problem was to analyse how to reduce the problem size with a quantum computer approach. We researched the FreeCore and ActiveSpace transformers in Qiskit and raised two issues to ask more detailed information on the usage. \n",
    "\n",
    "The coordinate calculation was also a time consuming task.\n",
    "\n",
    "Our approach was to use the Quantistry coordinates and use those in the quantum computation and then reduce the problem size with a transformer. \n",
    "#### BOPES\n",
    "We implemented a Born-Oppenheimer potential energy surface for the calculations. The atomic structure did not complete in time, so the final calculation with the BOPES approach requires more work. \n",
    "#### Running the algorithm\n",
    "The runtime of the algorithm in real quantum computer is high mostly because of the wait que in the real machine. \n",
    "We run the algorithm on a simulation environment with the following results. \n",
    "#### Quantistry\n",
    "With the Quantistry we created a calculations for each combination of the interactions. \n",
    "#### References\n",
    "During the task we created issues for questions that came up during the task. \n",
    "\n",
    "Qiskit https://github.com/Qiskit/qiskit-nature/issues/1087#issuecomment-1456015083\n",
    "\n",
    "TensorCircuit https://github.com/tencent-quantum-lab/tensorcircuit/issues/120#issuecomment-1447920148\n",
    "## Task 1B\n",
    "### Problem\n",
    "Compare your solution to at least one classical solution, describing advantages and disadvantages of the approaches.\n",
    "### Solution\n",
    "#### References\n",
    "## Task 2A \n",
    "### Problem\n",
    "Conceptualize a quantum or hybrid solution to scale the calculation from one binding site to at least one 2D unit cell of the given MOF-family AND from one gas molecule to a larger amount of substance of the gas molecule.\n",
    "### Solution\n",
    "#### References\n",
    "## Task 2B \n",
    "### Problem\n",
    "Discuss the requirements for your solution to 2A to be implemented in real quantum computers and give an estimate for the time horizon at which it may become feasible.\n",
    "### Solution\n",
    "#### References\n",
    "## Task 3\n",
    "### Problem\n",
    "Give an overview of your research and the resources used during the challenge, provide *.csv or *.xls files for all data resulting from the calculations in your report and supply your comprehensively commented code\n",
    "### Solution\n",
    "#### References"
   ]
  },
  {
   "cell_type": "code",
   "execution_count": null,
   "metadata": {},
   "outputs": [],
   "source": []
  },
  {
   "cell_type": "code",
   "execution_count": null,
   "metadata": {},
   "outputs": [],
   "source": []
  }
 ],
 "metadata": {
  "kernelspec": {
   "display_name": "Python 3 (ipykernel)",
   "language": "python",
   "name": "python3"
  },
  "language_info": {
   "codemirror_mode": {
    "name": "ipython",
    "version": 3
   },
   "file_extension": ".py",
   "mimetype": "text/x-python",
   "name": "python",
   "nbconvert_exporter": "python",
   "pygments_lexer": "ipython3",
   "version": "3.9.13"
  }
 },
 "nbformat": 4,
 "nbformat_minor": 4
}
